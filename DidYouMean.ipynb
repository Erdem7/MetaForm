{
 "cells": [
  {
   "cell_type": "code",
   "execution_count": 1,
   "metadata": {},
   "outputs": [],
   "source": [
    "from PyQt5.QtWidgets import *\n",
    "from PyQt5.QtCore import *\n",
    "from autocorrect import Speller\n",
    "from textblob import Word"
   ]
  },
  {
   "cell_type": "code",
   "execution_count": 2,
   "metadata": {},
   "outputs": [],
   "source": [
    "check = Speller(lang='en')"
   ]
  },
  {
   "cell_type": "code",
   "execution_count": 3,
   "metadata": {},
   "outputs": [],
   "source": [
    "class perdev(QDialog):\n",
    "    def __init__(self,pareny=None):\n",
    "        super(perdev,self).__init__()\n",
    "\n",
    "        grid=QGridLayout()\n",
    "\n",
    "\n",
    "        self.eklenen=[]\n",
    "        self.cıkarılan=[]\n",
    "\n",
    "        grid.addWidget(QLabel(\"Whats your sentence\"),0,0)\n",
    "        self.sentence=QLineEdit()\n",
    "        grid.addWidget(self.sentence,0,1)\n",
    "        \n",
    "        grid.addWidget(QLabel(\"Did you mean\"),1,0)\n",
    "        self.correct=QLineEdit()\n",
    "        grid.addWidget(self.correct,1,1)\n",
    "\n",
    "\n",
    "        hesaplabuton=QPushButton(\"Correct Sentence!\")\n",
    "        grid.addWidget(hesaplabuton,2,2)\n",
    "        hesaplabuton.clicked.connect(self.hesapla)\n",
    "\n",
    "        width=700\n",
    "        height=200\n",
    "\n",
    "        self.setFixedHeight(height)\n",
    "        self.setFixedWidth(width)\n",
    "\n",
    "        self.setLayout(grid)\n",
    "        self.setWindowTitle(\"Did you mean?\")\n",
    "\n",
    "    def inputs(self):\n",
    "        self.sentence_text=self.sentence.text()\n",
    "        return self.sentence_text\n",
    "\n",
    "    def hesapla(self):\n",
    "\n",
    "        self.sentence_deger=self.inputs()\n",
    "        test=check(self.inputs())\n",
    "        self.correct.setText(test)\n",
    "        \n",
    "        word = Word(self.inputs())\n",
    "        similarwords=word.spellcheck()        \n",
    "        print(similarwords)"
   ]
  },
  {
   "cell_type": "code",
   "execution_count": null,
   "metadata": {},
   "outputs": [
    {
     "name": "stdout",
     "output_type": "stream",
     "text": [
      "[('How you feling ? You look kind fever last nigt', 0.0)]\n",
      "[('Contact', 0.9666666666666667), ('Contrat', 0.03333333333333333)]\n",
      "[('Hence', 0.2882882882882883), ('Bench', 0.23423423423423423), ('Fence', 0.21621621621621623), ('Pencil', 0.09009009009009009), ('Renal', 0.05405405405405406), ('Pence', 0.036036036036036036), ('Bence', 0.036036036036036036), ('Lency', 0.018018018018018018), ('Wench', 0.009009009009009009), ('Venal', 0.009009009009009009), ('Penal', 0.009009009009009009)]\n"
     ]
    }
   ],
   "source": [
    "uyg=QApplication([])\n",
    "pencere=perdev()\n",
    "pencere.show()\n",
    "uyg.exec_()\n"
   ]
  },
  {
   "cell_type": "code",
   "execution_count": null,
   "metadata": {},
   "outputs": [],
   "source": []
  }
 ],
 "metadata": {
  "kernelspec": {
   "display_name": "Python 3",
   "language": "python",
   "name": "python3"
  },
  "language_info": {
   "codemirror_mode": {
    "name": "ipython",
    "version": 3
   },
   "file_extension": ".py",
   "mimetype": "text/x-python",
   "name": "python",
   "nbconvert_exporter": "python",
   "pygments_lexer": "ipython3",
   "version": "3.8.5"
  }
 },
 "nbformat": 4,
 "nbformat_minor": 5
}
