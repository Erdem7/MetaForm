{
 "cells": [
  {
   "cell_type": "code",
   "execution_count": 6,
   "metadata": {},
   "outputs": [],
   "source": [
    "import pandas as pd\n",
    "df = pd.read_csv(\"/Users/erdemsmac/Desktop/train.csv\")\n",
    "corpus_text = '\\n'.join(df[:5000]['comment_text'])\n",
    "sentences = corpus_text.split('\\n')\n",
    "sentences = [line.lower().split(' ') for line in sentences]"
   ]
  },
  {
   "cell_type": "code",
   "execution_count": 7,
   "metadata": {},
   "outputs": [],
   "source": [
    "def clean(s):\n",
    "    return [w.strip(',.\"!?:;()\\'') for w in s]\n",
    "sentences = [clean(s) for s in sentences if len(s) > 0]"
   ]
  },
  {
   "cell_type": "code",
   "execution_count": 8,
   "metadata": {},
   "outputs": [],
   "source": [
    "from gensim.models import Word2Vec"
   ]
  },
  {
   "cell_type": "code",
   "execution_count": 10,
   "metadata": {},
   "outputs": [],
   "source": [
    "model = Word2Vec(sentences, window=5, min_count=3, workers=4)"
   ]
  },
  {
   "cell_type": "code",
   "execution_count": 11,
   "metadata": {},
   "outputs": [],
   "source": [
    "vectors = model.wv\n",
    "del model"
   ]
  },
  {
   "cell_type": "code",
   "execution_count": 19,
   "metadata": {},
   "outputs": [
    {
     "data": {
      "text/plain": [
       "array([-0.17000592,  0.40446663,  0.03584593, -0.09624282,  0.05943547,\n",
       "       -0.5479871 ,  0.4358008 ,  0.80670685, -0.5466453 , -0.5378696 ,\n",
       "       -0.13163663, -0.53155863, -0.03015549,  0.05127933,  0.23968771,\n",
       "       -0.2616548 ,  0.21743257, -0.35032094, -0.06501338, -0.71383905,\n",
       "        0.26950362,  0.23292015,  0.1568699 , -0.23393823, -0.26868308,\n",
       "        0.1446315 , -0.48645955, -0.18356363, -0.13751562,  0.05384186,\n",
       "        0.3135048 , -0.06958967,  0.14598875, -0.30972165, -0.24365152,\n",
       "        0.2864761 , -0.01011925, -0.14315222, -0.07063769, -0.50774527,\n",
       "        0.06042802, -0.25089872, -0.0981238 ,  0.06732546,  0.21662201,\n",
       "       -0.08881325, -0.22856267, -0.13202426,  0.22414652,  0.13169554,\n",
       "        0.16208923, -0.5311889 ,  0.25563484, -0.11121231, -0.35629123,\n",
       "        0.22878087,  0.34006488,  0.14520034, -0.38175735,  0.28571168,\n",
       "       -0.06452426, -0.02224827,  0.10572188, -0.07484168, -0.11484734,\n",
       "        0.41335884,  0.2148195 ,  0.23711891, -0.4009039 ,  0.15852942,\n",
       "       -0.25604087,  0.19973236,  0.42726412,  0.14380923,  0.4545447 ,\n",
       "        0.0750819 , -0.2584015 ,  0.11699277, -0.16750044,  0.00272212,\n",
       "       -0.3521363 ,  0.06085749, -0.325607  ,  0.42449775, -0.06361257,\n",
       "       -0.06155457,  0.26072502,  0.26304835,  0.39423767,  0.26748505,\n",
       "        0.44431683,  0.2657577 , -0.06310725, -0.06106662,  0.5609084 ,\n",
       "        0.20198421,  0.33870164, -0.31949693,  0.07985798, -0.00188858],\n",
       "      dtype=float32)"
      ]
     },
     "execution_count": 19,
     "metadata": {},
     "output_type": "execute_result"
    }
   ],
   "source": [
    "vectors['bad']"
   ]
  },
  {
   "cell_type": "code",
   "execution_count": 20,
   "metadata": {},
   "outputs": [
    {
     "name": "stdout",
     "output_type": "stream",
     "text": [
      "0.60939735\n",
      "0.5262516\n"
     ]
    }
   ],
   "source": [
    "print(vectors.similarity('you', 'your'))\n",
    "print(vectors.similarity('you', 'internet'))"
   ]
  },
  {
   "cell_type": "code",
   "execution_count": 21,
   "metadata": {},
   "outputs": [
    {
     "data": {
      "text/plain": [
       "[('cant', 0.9842953085899353),\n",
       " (\"can't\", 0.9759028553962708),\n",
       " ('let', 0.9752731323242188),\n",
       " ('asked', 0.9742530584335327),\n",
       " ('jump', 0.971989095211029),\n",
       " ('share', 0.9709802865982056),\n",
       " ('ya', 0.9693349599838257),\n",
       " (\"you're\", 0.9691833853721619),\n",
       " ('wanted', 0.968775749206543),\n",
       " ('admi', 0.9683998823165894)]"
      ]
     },
     "execution_count": 21,
     "metadata": {},
     "output_type": "execute_result"
    }
   ],
   "source": [
    "vectors.most_similar('dont')"
   ]
  },
  {
   "cell_type": "code",
   "execution_count": null,
   "metadata": {},
   "outputs": [],
   "source": []
  }
 ],
 "metadata": {
  "kernelspec": {
   "display_name": "Python 3",
   "language": "python",
   "name": "python3"
  },
  "language_info": {
   "codemirror_mode": {
    "name": "ipython",
    "version": 3
   },
   "file_extension": ".py",
   "mimetype": "text/x-python",
   "name": "python",
   "nbconvert_exporter": "python",
   "pygments_lexer": "ipython3",
   "version": "3.8.5"
  }
 },
 "nbformat": 4,
 "nbformat_minor": 4
}
